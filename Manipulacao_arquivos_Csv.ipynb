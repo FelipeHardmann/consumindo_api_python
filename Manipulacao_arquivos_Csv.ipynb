{
 "cells": [
  {
   "cell_type": "code",
   "execution_count": 5,
   "id": "fda8fd9d",
   "metadata": {},
   "outputs": [],
   "source": [
    "import csv"
   ]
  },
  {
   "cell_type": "code",
   "execution_count": 6,
   "id": "6bb43974",
   "metadata": {},
   "outputs": [
    {
     "name": "stdout",
     "output_type": "stream",
     "text": [
      "['RA', 'Nome', 'Frequencia', 'Prova_1', 'Prova_2', 'Prova_3', 'Prova_4']\n",
      "['110201', 'Antonio Carlos', '20', '6.5', '8.5', '7', '6']\n",
      "['110212', 'Ana Beatriz', '20', '7', '7', '7', '8']\n",
      "['110218', 'Carlos Vernes', '17', '7', '7', '7', '7']\n",
      "['110307', 'Francisco Cunha', '20', '9', '8.5', '8.5', '10']\n",
      "['110275', 'Sandra Rosa', '15', '6.5', '7.5', '7', '7']\n",
      "['110281', 'Juliana Arruda', '18', '7.5', '7', '7.5', '8']\n",
      "['110301', 'Joao Galo', '20', '5', '6.5', '7', '5']\n",
      "['110263', 'José Valente', '20', '10', '10', '10', '10']\n",
      "['110271', 'Maria Ferreira', '19', '9.5', '8', '7', '10']\n",
      "['110236', 'Adriana Tavares', '20', '8', '8', '8', '8']\n"
     ]
    }
   ],
   "source": [
    "with open('0f8eacaa-25d5-462e-84f4-4937489552d4.csv', 'r', encoding = 'utf-8') as arquivo_csv:\n",
    "    leitor = csv.reader(arquivo_csv)\n",
    "    for linha in leitor:\n",
    "        print(linha)"
   ]
  },
  {
   "cell_type": "code",
   "execution_count": 10,
   "id": "fd75bcc0",
   "metadata": {},
   "outputs": [],
   "source": [
    "with open('users.csv', 'w', encoding = 'utf-8', newline = '') as arquivo_users:\n",
    "    escritor = csv.writer(arquivo_users)\n",
    "    escritor.writerow(['nome', 'sobrenome', 'email', 'genero'])\n",
    "    escritor.writerow(['Felipe', 'Hardmann', 'felipehardmann@gmail.com', 'masculino'])    "
   ]
  },
  {
   "cell_type": "code",
   "execution_count": null,
   "id": "57b20337",
   "metadata": {},
   "outputs": [],
   "source": []
  }
 ],
 "metadata": {
  "kernelspec": {
   "display_name": "Python 3 (ipykernel)",
   "language": "python",
   "name": "python3"
  },
  "language_info": {
   "codemirror_mode": {
    "name": "ipython",
    "version": 3
   },
   "file_extension": ".py",
   "mimetype": "text/x-python",
   "name": "python",
   "nbconvert_exporter": "python",
   "pygments_lexer": "ipython3",
   "version": "3.10.4"
  }
 },
 "nbformat": 4,
 "nbformat_minor": 5
}
