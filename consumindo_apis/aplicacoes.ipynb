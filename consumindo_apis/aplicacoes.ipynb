{
 "cells": [
  {
   "cell_type": "code",
   "execution_count": 1,
   "id": "f389c0ae",
   "metadata": {},
   "outputs": [],
   "source": [
    "#manipulação de arquivos\n",
    "#A função open() serve para abrir o arquivo\n",
    "#A função read ler o arquivo que foi aberto"
   ]
  },
  {
   "cell_type": "code",
   "execution_count": 2,
   "id": "500a7453",
   "metadata": {},
   "outputs": [
    {
     "name": "stdout",
     "output_type": "stream",
     "text": [
      "RA,Nome,Frequencia,Prova_1,Prova_2,Prova_3,Prova_4\n",
      "110201,Antonio Carlos,20,6.5,8.5,7,6\n",
      "110212,Ana Beatriz,20,7,7,7,8\n",
      "110218,Carlos Vernes,17,7,7,7,7\n",
      "110307,Francisco Cunha,20,9,8.5,8.5,10\n",
      "110275,Sandra Rosa,15,6.5,7.5,7,7\n",
      "110281,Juliana Arruda,18,7.5,7,7.5,8\n",
      "110301,Joao Galo,20,5,6.5,7,5\n",
      "110263,José Valente,20,10,10,10,10\n",
      "110271,Maria Ferreira,19,9.5,8,7,10\n",
      "110236,Adriana Tavares,20,8,8,8,8\n",
      "\n"
     ]
    }
   ],
   "source": [
    "arquivo = open('0f8eacaa-25d5-462e-84f4-4937489552d4.csv')\n",
    "texto = arquivo.read()\n",
    "print(texto)\n",
    "arquivo.close()"
   ]
  },
  {
   "cell_type": "code",
   "execution_count": 3,
   "id": "75a75f67",
   "metadata": {},
   "outputs": [
    {
     "name": "stdout",
     "output_type": "stream",
     "text": [
      "RA,Nome,Frequencia,Prova_1,Prova_2,Prova_3,Prova_4\n",
      "110201,Antonio Carlos,20,6.5,8.5,7,6\n",
      "110212,Ana Beatriz,20,7,7,7,8\n",
      "110218,Carlos Vernes,17,7,7,7,7\n",
      "110307,Francisco Cunha,20,9,8.5,8.5,10\n",
      "110275,Sandra Rosa,15,6.5,7.5,7,7\n",
      "110281,Juliana Arruda,18,7.5,7,7.5,8\n",
      "110301,Joao Galo,20,5,6.5,7,5\n",
      "110263,José Valente,20,10,10,10,10\n",
      "110271,Maria Ferreira,19,9.5,8,7,10\n",
      "110236,Adriana Tavares,20,8,8,8,8\n"
     ]
    }
   ],
   "source": [
    "arquivo = open('0f8eacaa-25d5-462e-84f4-4937489552d4.csv')\n",
    "linha = arquivo.readline() #Função para ler apenas uma linha por vez\n",
    "while linha != '':\n",
    "    print(linha, end = '')\n",
    "    linha = arquivo.readline()\n",
    "arquivo.close()"
   ]
  },
  {
   "cell_type": "code",
   "execution_count": 4,
   "id": "6a47fdf0",
   "metadata": {},
   "outputs": [
    {
     "name": "stdout",
     "output_type": "stream",
     "text": [
      "RA,Nome,Frequencia,Prova_1,Prova_2,Prova_3,Prova_4\n",
      "110201,Antonio Carlos,20,6.5,8.5,7,6\n",
      "110212,Ana Beatriz,20,7,7,7,8\n",
      "110218,Carlos Vernes,17,7,7,7,7\n",
      "110307,Francisco Cunha,20,9,8.5,8.5,10\n",
      "110275,Sandra Rosa,15,6.5,7.5,7,7\n",
      "110281,Juliana Arruda,18,7.5,7,7.5,8\n",
      "110301,Joao Galo,20,5,6.5,7,5\n",
      "110263,José Valente,20,10,10,10,10\n",
      "110271,Maria Ferreira,19,9.5,8,7,10\n",
      "110236,Adriana Tavares,20,8,8,8,8\n"
     ]
    }
   ],
   "source": [
    "arquivo = open('0f8eacaa-25d5-462e-84f4-4937489552d4.csv')\n",
    "for linha in arquivo:\n",
    "    print(linha, end = '')\n",
    "arquivo.close()"
   ]
  },
  {
   "cell_type": "code",
   "execution_count": 7,
   "id": "ebf8225c",
   "metadata": {},
   "outputs": [
    {
     "name": "stdout",
     "output_type": "stream",
     "text": [
      "RA,Nome,Frequencia,Prova_1,Prova_2,Prova_3,Prova_4\n",
      "110201,Antonio Carlos,20,6.5,8.5,7,6\n",
      "110212,Ana Beatriz,20,7,7,7,8\n",
      "110218,Carlos Vernes,17,7,7,7,7\n",
      "110307,Francisco Cunha,20,9,8.5,8.5,10\n",
      "110275,Sandra Rosa,15,6.5,7.5,7,7\n",
      "110281,Juliana Arruda,18,7.5,7,7.5,8\n",
      "110301,Joao Galo,20,5,6.5,7,5\n",
      "110263,José Valente,20,10,10,10,10\n",
      "110271,Maria Ferreira,19,9.5,8,7,10\n",
      "110236,Adriana Tavares,20,8,8,8,8\n",
      "\n"
     ]
    }
   ],
   "source": [
    "with open('0f8eacaa-25d5-462e-84f4-4937489552d4.csv', 'r', encoding = 'utf-8') as arquivo: #Dessa forma ñ se precisa\n",
    "#colocar o close\n",
    "    text = arquivo.read()\n",
    "    print(text)"
   ]
  },
  {
   "cell_type": "code",
   "execution_count": 13,
   "id": "8276feab",
   "metadata": {},
   "outputs": [],
   "source": [
    "with open('arquivo_teste.txt', 'w', encoding = 'utf-8') as arquivo:\n",
    "    arquivo.write('Essa é linha que eu escrevi usando python\\n')\n",
    "    arquivo.write('Essa é linha que eu escrevi usando python\\n')\n",
    "    arquivo.write('Essa é linha que eu escrevi usando python\\n')    "
   ]
  },
  {
   "cell_type": "code",
   "execution_count": 14,
   "id": "717066f1",
   "metadata": {},
   "outputs": [
    {
     "name": "stdout",
     "output_type": "stream",
     "text": [
      "Essa é linha que eu escrevi usando python\n",
      "Essa é linha que eu escrevi usando python\n",
      "Essa é linha que eu escrevi usando python\n"
     ]
    }
   ],
   "source": [
    "with open('arquivo_teste.txt', 'r', encoding = 'utf-8') as arquivo:\n",
    "    print(arquivo.read(), end = '')"
   ]
  },
  {
   "cell_type": "code",
   "execution_count": 15,
   "id": "345679d8",
   "metadata": {},
   "outputs": [],
   "source": []
  },
  {
   "cell_type": "code",
   "execution_count": null,
   "id": "f681f2a1",
   "metadata": {},
   "outputs": [],
   "source": []
  }
 ],
 "metadata": {
  "kernelspec": {
   "display_name": "Python 3.10.7 64-bit (microsoft store)",
   "language": "python",
   "name": "python3"
  },
  "language_info": {
   "codemirror_mode": {
    "name": "ipython",
    "version": 3
   },
   "file_extension": ".py",
   "mimetype": "text/x-python",
   "name": "python",
   "nbconvert_exporter": "python",
   "pygments_lexer": "ipython3",
   "version": "3.10.7"
  },
  "vscode": {
   "interpreter": {
    "hash": "191c5e2111f6f71ffba11bdabdd10d2f5104f8b09e00bef630460c281b5383c9"
   }
  }
 },
 "nbformat": 4,
 "nbformat_minor": 5
}
