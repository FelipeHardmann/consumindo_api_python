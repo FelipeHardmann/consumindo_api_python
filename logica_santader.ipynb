{
 "cells": [
  {
   "cell_type": "code",
   "execution_count": 1,
   "id": "21d83e42",
   "metadata": {},
   "outputs": [
    {
     "name": "stdout",
     "output_type": "stream",
     "text": [
      "Heloo World!\n"
     ]
    }
   ],
   "source": [
    "print('Heloo World!')"
   ]
  },
  {
   "cell_type": "code",
   "execution_count": 2,
   "id": "f52a17bf",
   "metadata": {},
   "outputs": [],
   "source": [
    "x = 5"
   ]
  },
  {
   "cell_type": "code",
   "execution_count": 3,
   "id": "c96f710a",
   "metadata": {},
   "outputs": [
    {
     "name": "stdout",
     "output_type": "stream",
     "text": [
      "5\n"
     ]
    }
   ],
   "source": [
    "print(x)"
   ]
  },
  {
   "cell_type": "code",
   "execution_count": 4,
   "id": "c412f4e4",
   "metadata": {},
   "outputs": [
    {
     "name": "stdout",
     "output_type": "stream",
     "text": [
      "<class 'int'>\n"
     ]
    }
   ],
   "source": [
    "print(type(x))"
   ]
  },
  {
   "cell_type": "code",
   "execution_count": 5,
   "id": "72f8ec4c",
   "metadata": {},
   "outputs": [
    {
     "name": "stdout",
     "output_type": "stream",
     "text": [
      "19.99 <class 'float'>\n"
     ]
    }
   ],
   "source": [
    "preco = 19.99\n",
    "print(preco, type(preco))"
   ]
  },
  {
   "cell_type": "code",
   "execution_count": 6,
   "id": "84e8dac9",
   "metadata": {},
   "outputs": [
    {
     "name": "stdout",
     "output_type": "stream",
     "text": [
      "São Paulo <class 'str'>\n"
     ]
    }
   ],
   "source": [
    "cidade = 'São Paulo'\n",
    "print(cidade, type(cidade))"
   ]
  },
  {
   "cell_type": "code",
   "execution_count": 7,
   "id": "735d1cc3",
   "metadata": {},
   "outputs": [
    {
     "name": "stdout",
     "output_type": "stream",
     "text": [
      "True\n"
     ]
    }
   ],
   "source": [
    "disponivel = True\n",
    "print(disponivel)"
   ]
  },
  {
   "cell_type": "code",
   "execution_count": 8,
   "id": "6731665b",
   "metadata": {},
   "outputs": [],
   "source": [
    "x = 50\n",
    "y = 2"
   ]
  },
  {
   "cell_type": "code",
   "execution_count": 9,
   "id": "0ce1df52",
   "metadata": {},
   "outputs": [
    {
     "name": "stdout",
     "output_type": "stream",
     "text": [
      "52\n",
      "48\n",
      "100\n",
      "25.0\n"
     ]
    }
   ],
   "source": [
    "print(x + y)\n",
    "print(x - y)\n",
    "print(x * y)\n",
    "print(x / y)"
   ]
  },
  {
   "cell_type": "code",
   "execution_count": 10,
   "id": "d215e942",
   "metadata": {},
   "outputs": [
    {
     "name": "stdout",
     "output_type": "stream",
     "text": [
      "2500\n",
      "25\n",
      "0\n"
     ]
    }
   ],
   "source": [
    "print(x ** y)\n",
    "print(x // y)\n",
    "print(x % y)"
   ]
  },
  {
   "cell_type": "code",
   "execution_count": 11,
   "id": "02c92cc2",
   "metadata": {},
   "outputs": [
    {
     "name": "stdout",
     "output_type": "stream",
     "text": [
      "Idade: 34\n"
     ]
    }
   ],
   "source": [
    "idade = input('Idade: ')"
   ]
  },
  {
   "cell_type": "code",
   "execution_count": 12,
   "id": "301b2be3",
   "metadata": {},
   "outputs": [
    {
     "name": "stdout",
     "output_type": "stream",
     "text": [
      "34 <class 'str'>\n"
     ]
    }
   ],
   "source": [
    "print(idade, type(idade))"
   ]
  },
  {
   "cell_type": "code",
   "execution_count": 13,
   "id": "0b5d33c0",
   "metadata": {},
   "outputs": [],
   "source": [
    "idade = int(idade)\n"
   ]
  },
  {
   "cell_type": "code",
   "execution_count": 14,
   "id": "0979645a",
   "metadata": {},
   "outputs": [
    {
     "name": "stdout",
     "output_type": "stream",
     "text": [
      "34 <class 'int'>\n"
     ]
    }
   ],
   "source": [
    "print(idade, type(idade))"
   ]
  },
  {
   "cell_type": "code",
   "execution_count": 15,
   "id": "2f33b58e",
   "metadata": {},
   "outputs": [
    {
     "name": "stdout",
     "output_type": "stream",
     "text": [
      "Digite o seu salário mensal: 2000\n",
      "Gasto mensal: 1000\n",
      "O total economizado foi de 12000.0\n"
     ]
    }
   ],
   "source": [
    "salario = input('Digite o seu salário mensal: ')\n",
    "salario = float(salario)\n",
    "\n",
    "gasto = input('Gasto mensal: ')\n",
    "gasto = float(gasto)\n",
    "\n",
    "salario = salario * 12\n",
    "gasto = gasto * 12\n",
    "\n",
    "total_economizado = salario - gasto\n",
    "\n",
    "print(f'O total economizado foi de {total_economizado}')"
   ]
  },
  {
   "cell_type": "code",
   "execution_count": 20,
   "id": "85ff59f5",
   "metadata": {},
   "outputs": [
    {
     "name": "stdout",
     "output_type": "stream",
     "text": [
      "Digite o valor da corrida: 35\n",
      "Pegue o Ônibus\n"
     ]
    }
   ],
   "source": [
    "valor_passagem = 4.30\n",
    "\n",
    "valor_corrida = input('Digite o valor da corrida: ')\n",
    "\n",
    "if float(valor_corrida) <= valor_passagem * 5:\n",
    "    print('Pegue a corrida')\n",
    "else:\n",
    "    print('Pegue o Ônibus')"
   ]
  },
  {
   "cell_type": "code",
   "execution_count": 22,
   "id": "3ea0cfbe",
   "metadata": {},
   "outputs": [
    {
     "name": "stdout",
     "output_type": "stream",
     "text": [
      "1 item limpo\n",
      "2 itens limpos\n",
      "3 itens limpos\n",
      "4 itens limpos\n",
      "5 itens limpos\n",
      "6 itens limpos\n",
      "7 itens limpos\n",
      "8 itens limpos\n",
      "9 itens limpos\n",
      "10 itens limpos\n"
     ]
    }
   ],
   "source": [
    "cont = 0\n",
    "\n",
    "while cont < 10:\n",
    "    cont += 1\n",
    "    if cont == 1:\n",
    "        print(f'{cont} item limpo')\n",
    "    else:\n",
    "        print(f'{cont} itens limpos')"
   ]
  },
  {
   "cell_type": "code",
   "execution_count": null,
   "id": "747dbc16",
   "metadata": {},
   "outputs": [],
   "source": [
    "cont = 0\n",
    "\n",
    "while True:\n",
    "    if cont < 10:\n",
    "        cont += 1\n",
    "        if cont == 1:\n",
    "            print(f'{cont} item limpo')\n",
    "        else:\n",
    "            print(f'{cont} itens limpos')\n",
    "    else:\n",
    "        break\n",
    "print('Fim da repetição')"
   ]
  },
  {
   "cell_type": "code",
   "execution_count": null,
   "id": "15e5557c",
   "metadata": {},
   "outputs": [],
   "source": [
    "cont = 0\n",
    "\n",
    "while True:\n",
    "    if cont < 10:\n",
    "        cont += 1\n",
    "        if cont == 1:\n",
    "            print(f'{cont} item limpo')\n",
    "        else:\n",
    "            print(f'{cont} itens limpos')\n",
    "    else:\n",
    "        break\n",
    "print('Fim da repetição')"
   ]
  },
  {
   "cell_type": "code",
   "execution_count": null,
   "id": "84838b95",
   "metadata": {},
   "outputs": [],
   "source": [
    "cont = 0\n",
    "\n",
    "while True:\n",
    "    if cont < 10:\n",
    "        cont += 1\n",
    "        if cont == 1:\n",
    "            print(f'{cont} item limpo')\n",
    "        else:\n",
    "            print(f'{cont} itens limpos')\n",
    "    else:\n",
    "        break\n",
    "print('Fim da repetição')"
   ]
  },
  {
   "cell_type": "code",
   "execution_count": null,
   "id": "d6e2503a",
   "metadata": {},
   "outputs": [],
   "source": []
  }
 ],
 "metadata": {
  "kernelspec": {
   "display_name": "Python 3 (ipykernel)",
   "language": "python",
   "name": "python3"
  },
  "language_info": {
   "codemirror_mode": {
    "name": "ipython",
    "version": 3
   },
   "file_extension": ".py",
   "mimetype": "text/x-python",
   "name": "python",
   "nbconvert_exporter": "python",
   "pygments_lexer": "ipython3",
   "version": "3.10.4"
  }
 },
 "nbformat": 4,
 "nbformat_minor": 5
}
