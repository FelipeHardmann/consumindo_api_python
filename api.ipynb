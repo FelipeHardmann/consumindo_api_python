{
 "cells": [
  {
   "cell_type": "code",
   "execution_count": 1,
   "id": "06dc1c88",
   "metadata": {},
   "outputs": [
    {
     "name": "stdout",
     "output_type": "stream",
     "text": [
      "Defaulting to user installation because normal site-packages is not writeable\n",
      "Requirement already satisfied: requests in /usr/lib/python3/dist-packages (2.25.1)\n"
     ]
    }
   ],
   "source": [
    "!pip install requests #Instalação para fazer o consumo de API´S"
   ]
  },
  {
   "cell_type": "code",
   "execution_count": 2,
   "id": "87895a0b",
   "metadata": {},
   "outputs": [],
   "source": [
    "import requests"
   ]
  },
  {
   "cell_type": "code",
   "execution_count": 4,
   "id": "01ad256b",
   "metadata": {},
   "outputs": [
    {
     "name": "stdout",
     "output_type": "stream",
     "text": [
      "200\n"
     ]
    }
   ],
   "source": [
    "url = 'https://api.exchangerate-api.com/v6/latest'\n",
    "\n",
    "req = requests.get(url)\n",
    "\n",
    "print(req.status_code)"
   ]
  },
  {
   "cell_type": "code",
   "execution_count": 5,
   "id": "3ec029b6",
   "metadata": {},
   "outputs": [
    {
     "name": "stdout",
     "output_type": "stream",
     "text": [
      "{'result': 'success', 'provider': 'https://www.exchangerate-api.com', 'documentation': 'https://www.exchangerate-api.com/docs/free', 'terms_of_use': 'https://www.exchangerate-api.com/terms', 'time_last_update_unix': 1663286551, 'time_last_update_utc': 'Fri, 16 Sep 2022 00:02:31 +0000', 'time_next_update_unix': 1663374381, 'time_next_update_utc': 'Sat, 17 Sep 2022 00:26:21 +0000', 'time_eol_unix': 0, 'base_code': 'USD', 'rates': {'USD': 1, 'AED': 3.6725, 'AFN': 88.014182, 'ALL': 116.93284, 'AMD': 410.339898, 'ANG': 1.79, 'AOA': 427.976359, 'ARS': 142.291667, 'AUD': 1.489533, 'AWG': 1.79, 'AZN': 1.69437, 'BAM': 1.957912, 'BBD': 2, 'BDT': 103.145679, 'BGN': 1.957845, 'BHD': 0.376, 'BIF': 2038.362765, 'BMD': 1, 'BND': 1.408481, 'BOB': 6.894108, 'BRL': 5.191558, 'BSD': 1, 'BTN': 79.630388, 'BWP': 13.06319, 'BYN': 2.708757, 'BZD': 2, 'CAD': 1.32072, 'CDF': 2020.588347, 'CHF': 0.960708, 'CLP': 920.351785, 'CNY': 6.98948, 'COP': 4387.73099, 'CRC': 636.372479, 'CUP': 24, 'CVE': 110.38238, 'CZK': 24.551336, 'DJF': 177.721, 'DKK': 7.468322, 'DOP': 53.294578, 'DZD': 140.70984, 'EGP': 19.341498, 'ERN': 15, 'ETB': 52.630185, 'EUR': 1.0011, 'FJD': 2.234849, 'FKP': 0.87147, 'FOK': 7.468322, 'GBP': 0.871521, 'GEL': 2.824352, 'GGP': 0.87147, 'GHS': 10.21619, 'GIP': 0.87147, 'GMD': 55.413062, 'GNF': 8596.128878, 'GTQ': 7.770655, 'GYD': 207.832722, 'HKD': 7.850054, 'HNL': 24.777652, 'HRK': 7.542521, 'HTG': 117.435811, 'HUF': 408.135919, 'IDR': 14869.04911, 'ILS': 3.446276, 'IMP': 0.87147, 'INR': 79.632122, 'IQD': 1449.949449, 'IRR': 41891.146366, 'ISK': 139.144384, 'JEP': 0.87147, 'JMD': 152.191829, 'JOD': 0.709, 'JPY': 143.29763, 'KES': 120.59007, 'KGS': 81.813771, 'KHR': 4081.292493, 'KID': 1.489434, 'KMF': 492.491462, 'KRW': 1395.811738, 'KWD': 0.29963, 'KYD': 0.833333, 'KZT': 474.798825, 'LAK': 17510.425317, 'LBP': 1507.5, 'LKR': 358.872108, 'LRD': 153.318267, 'LSL': 17.544803, 'LYD': 4.891086, 'MAD': 10.751869, 'MDL': 19.327801, 'MGA': 4129.266673, 'MKD': 61.44338, 'MMK': 2610.023073, 'MNT': 3219.126452, 'MOP': 8.085515, 'MRU': 37.547891, 'MUR': 44.528399, 'MVR': 15.40383, 'MWK': 1029.703067, 'MXN': 20.067561, 'MYR': 4.521303, 'MZN': 64.08391, 'NAD': 17.544803, 'NGN': 425.142393, 'NIO': 36.112662, 'NOK': 10.15862, 'NPR': 127.408621, 'NZD': 1.674428, 'OMR': 0.384497, 'PAB': 1, 'PEN': 3.864279, 'PGK': 3.509455, 'PHP': 57.242316, 'PKR': 233.882698, 'PLN': 4.723016, 'PYG': 6929.183445, 'QAR': 3.64, 'RON': 4.927674, 'RSD': 117.381329, 'RUB': 59.570009, 'RWF': 1056.25701, 'SAR': 3.75, 'SBD': 8.021584, 'SCR': 13.074796, 'SDG': 565.335382, 'SEK': 10.726168, 'SGD': 1.408514, 'SHP': 0.87147, 'SLE': 14.353169, 'SLL': 14353.169322, 'SOS': 564.731845, 'SRD': 26.835257, 'SSP': 645.502758, 'STN': 24.526081, 'SYP': 2489.780007, 'SZL': 17.544803, 'THB': 36.876097, 'TJS': 10.167952, 'TMT': 3.494509, 'TND': 3.017978, 'TOP': 2.366954, 'TRY': 18.282178, 'TTD': 6.75779, 'TVD': 1.489434, 'TWD': 31.128506, 'TZS': 2324.752009, 'UAH': 37.129307, 'UGX': 3801.867315, 'UYU': 40.656299, 'UZS': 10871.683014, 'VES': 8.0277, 'VND': 23592.539346, 'VUV': 117.15991, 'WST': 2.659129, 'XAF': 656.655282, 'XCD': 2.7, 'XDR': 0.770672, 'XOF': 656.655282, 'XPF': 119.459032, 'YER': 249.288657, 'ZAR': 17.54491, 'ZMW': 15.558753, 'ZWL': 603.524197}}\n"
     ]
    }
   ],
   "source": [
    "dados = req.json()\n",
    "print(dados)"
   ]
  },
  {
   "cell_type": "code",
   "execution_count": 6,
   "id": "da5a6010",
   "metadata": {},
   "outputs": [
    {
     "name": "stdout",
     "output_type": "stream",
     "text": [
      "Informe o valor em Reais a ser convertido: 100\n",
      "R$100.0 em dólar valem US$ 19.26\n"
     ]
    }
   ],
   "source": [
    "valor_reais = float(input('Informe o valor em Reais a ser convertido: '))\n",
    "cotacao = dados['rates']['BRL']\n",
    "print(f'R${valor_reais} em dólar valem US$ {(valor_reais / cotacao):.2f}')"
   ]
  },
  {
   "cell_type": "code",
   "execution_count": null,
   "id": "5b13e89a",
   "metadata": {},
   "outputs": [],
   "source": []
  }
 ],
 "metadata": {
  "kernelspec": {
   "display_name": "Python 3 (ipykernel)",
   "language": "python",
   "name": "python3"
  },
  "language_info": {
   "codemirror_mode": {
    "name": "ipython",
    "version": 3
   },
   "file_extension": ".py",
   "mimetype": "text/x-python",
   "name": "python",
   "nbconvert_exporter": "python",
   "pygments_lexer": "ipython3",
   "version": "3.10.4"
  }
 },
 "nbformat": 4,
 "nbformat_minor": 5
}
